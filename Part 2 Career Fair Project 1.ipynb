{
 "cells": [
  {
   "cell_type": "code",
   "execution_count": 2,
   "id": "2d31c467-f02c-425f-8c0c-3700fab896ec",
   "metadata": {},
   "outputs": [],
   "source": [
    "import pandas as pd\n",
    "import numpy as np\n",
    "import matplotlib.pyplot as plt\n",
    "import warnings \n",
    "warnings.filterwarnings('ignore')\n",
    "import re"
   ]
  },
  {
   "cell_type": "code",
   "execution_count": 3,
   "id": "3273308b-5183-4df1-a8d4-9d1190a316a4",
   "metadata": {},
   "outputs": [
    {
     "data": {
      "text/html": [
       "<div>\n",
       "<style scoped>\n",
       "    .dataframe tbody tr th:only-of-type {\n",
       "        vertical-align: middle;\n",
       "    }\n",
       "\n",
       "    .dataframe tbody tr th {\n",
       "        vertical-align: top;\n",
       "    }\n",
       "\n",
       "    .dataframe thead th {\n",
       "        text-align: right;\n",
       "    }\n",
       "</style>\n",
       "<table border=\"1\" class=\"dataframe\">\n",
       "  <thead>\n",
       "    <tr style=\"text-align: right;\">\n",
       "      <th></th>\n",
       "      <th>Unnamed: 0</th>\n",
       "      <th>Sector Name</th>\n",
       "      <th>Sub Sector</th>\n",
       "      <th>Organization</th>\n",
       "      <th>Operation</th>\n",
       "      <th>Operation Type</th>\n",
       "      <th>Address</th>\n",
       "      <th>City</th>\n",
       "      <th>Postal Code</th>\n",
       "      <th>Annual Flow</th>\n",
       "      <th>...</th>\n",
       "      <th>Fuel Oil 4 &amp; 6 Qty ltr</th>\n",
       "      <th>Propane Qty ltr</th>\n",
       "      <th>Coal Qty metric ton</th>\n",
       "      <th>Wood Qty metric ton</th>\n",
       "      <th>District Heating Qty gj</th>\n",
       "      <th>District Cooling Qty gj</th>\n",
       "      <th>GHG Emissions metric ton</th>\n",
       "      <th>year</th>\n",
       "      <th>Fuel Oil 4 Qty ltr</th>\n",
       "      <th>Fuel Oil 5 &amp; 6 Qty ltr</th>\n",
       "    </tr>\n",
       "  </thead>\n",
       "  <tbody>\n",
       "    <tr>\n",
       "      <th>0</th>\n",
       "      <td>0</td>\n",
       "      <td>Public Hospital</td>\n",
       "      <td>Acute/Chronic</td>\n",
       "      <td>Alexandra Hospital</td>\n",
       "      <td>Alexandra Hospital</td>\n",
       "      <td>Facilities used for hospital purposes</td>\n",
       "      <td>29 Noxon Street</td>\n",
       "      <td>Ingersoll</td>\n",
       "      <td>N5C3V6</td>\n",
       "      <td>0.0</td>\n",
       "      <td>...</td>\n",
       "      <td>0.0</td>\n",
       "      <td>0.0</td>\n",
       "      <td>0</td>\n",
       "      <td>0.0</td>\n",
       "      <td>0.0</td>\n",
       "      <td>0.0</td>\n",
       "      <td>528.0</td>\n",
       "      <td>2012</td>\n",
       "      <td>NaN</td>\n",
       "      <td>NaN</td>\n",
       "    </tr>\n",
       "    <tr>\n",
       "      <th>1</th>\n",
       "      <td>1</td>\n",
       "      <td>Public Hospital</td>\n",
       "      <td>Acute/Chronic</td>\n",
       "      <td>Alexandra Hospital</td>\n",
       "      <td>Alexandra Hospital</td>\n",
       "      <td>Administrative offices and related facilities</td>\n",
       "      <td>29 Noxon Street</td>\n",
       "      <td>Ingersoll</td>\n",
       "      <td>N5C3V6</td>\n",
       "      <td>0.0</td>\n",
       "      <td>...</td>\n",
       "      <td>0.0</td>\n",
       "      <td>0.0</td>\n",
       "      <td>0</td>\n",
       "      <td>0.0</td>\n",
       "      <td>0.0</td>\n",
       "      <td>0.0</td>\n",
       "      <td>432.0</td>\n",
       "      <td>2012</td>\n",
       "      <td>NaN</td>\n",
       "      <td>NaN</td>\n",
       "    </tr>\n",
       "    <tr>\n",
       "      <th>2</th>\n",
       "      <td>2</td>\n",
       "      <td>Public Hospital</td>\n",
       "      <td>Acute/Chronic</td>\n",
       "      <td>Alexandria Glengarry Memorial Hospital</td>\n",
       "      <td>Glengarry Memorial Hospital</td>\n",
       "      <td>Facilities used for hospital purposes</td>\n",
       "      <td>20260 County Road 43</td>\n",
       "      <td>Alexandria</td>\n",
       "      <td>K0C1A0</td>\n",
       "      <td>0.0</td>\n",
       "      <td>...</td>\n",
       "      <td>0.0</td>\n",
       "      <td>0.0</td>\n",
       "      <td>0</td>\n",
       "      <td>0.0</td>\n",
       "      <td>0.0</td>\n",
       "      <td>0.0</td>\n",
       "      <td>587.0</td>\n",
       "      <td>2012</td>\n",
       "      <td>NaN</td>\n",
       "      <td>NaN</td>\n",
       "    </tr>\n",
       "    <tr>\n",
       "      <th>3</th>\n",
       "      <td>3</td>\n",
       "      <td>Public Hospital</td>\n",
       "      <td>Acute/Chronic</td>\n",
       "      <td>Alexandria Glengarry Memorial Hospital</td>\n",
       "      <td>Glengarry Memorial Hospital</td>\n",
       "      <td>Administrative offices and related facilities</td>\n",
       "      <td>20260 County Road 43</td>\n",
       "      <td>Alexandria</td>\n",
       "      <td>K0C1A0</td>\n",
       "      <td>0.0</td>\n",
       "      <td>...</td>\n",
       "      <td>0.0</td>\n",
       "      <td>0.0</td>\n",
       "      <td>0</td>\n",
       "      <td>0.0</td>\n",
       "      <td>0.0</td>\n",
       "      <td>0.0</td>\n",
       "      <td>45.0</td>\n",
       "      <td>2012</td>\n",
       "      <td>NaN</td>\n",
       "      <td>NaN</td>\n",
       "    </tr>\n",
       "    <tr>\n",
       "      <th>4</th>\n",
       "      <td>4</td>\n",
       "      <td>School Board</td>\n",
       "      <td>School Board</td>\n",
       "      <td>Algoma District School Board</td>\n",
       "      <td>Adult Ed - Blind River (WC Eaket)</td>\n",
       "      <td>Schools</td>\n",
       "      <td>147 Woodward Ave</td>\n",
       "      <td>Blind River</td>\n",
       "      <td>P0R1B0</td>\n",
       "      <td>0.0</td>\n",
       "      <td>...</td>\n",
       "      <td>0.0</td>\n",
       "      <td>0.0</td>\n",
       "      <td>0</td>\n",
       "      <td>0.0</td>\n",
       "      <td>0.0</td>\n",
       "      <td>0.0</td>\n",
       "      <td>53.0</td>\n",
       "      <td>2012</td>\n",
       "      <td>NaN</td>\n",
       "      <td>NaN</td>\n",
       "    </tr>\n",
       "  </tbody>\n",
       "</table>\n",
       "<p>5 rows × 23 columns</p>\n",
       "</div>"
      ],
      "text/plain": [
       "   Unnamed: 0      Sector Name     Sub Sector  \\\n",
       "0           0  Public Hospital  Acute/Chronic   \n",
       "1           1  Public Hospital  Acute/Chronic   \n",
       "2           2  Public Hospital  Acute/Chronic   \n",
       "3           3  Public Hospital  Acute/Chronic   \n",
       "4           4     School Board   School Board   \n",
       "\n",
       "                             Organization                          Operation  \\\n",
       "0                      Alexandra Hospital                 Alexandra Hospital   \n",
       "1                      Alexandra Hospital                 Alexandra Hospital   \n",
       "2  Alexandria Glengarry Memorial Hospital        Glengarry Memorial Hospital   \n",
       "3  Alexandria Glengarry Memorial Hospital        Glengarry Memorial Hospital   \n",
       "4            Algoma District School Board  Adult Ed - Blind River (WC Eaket)   \n",
       "\n",
       "                                  Operation Type               Address  \\\n",
       "0          Facilities used for hospital purposes       29 Noxon Street   \n",
       "1  Administrative offices and related facilities       29 Noxon Street   \n",
       "2          Facilities used for hospital purposes  20260 County Road 43   \n",
       "3  Administrative offices and related facilities  20260 County Road 43   \n",
       "4                                        Schools      147 Woodward Ave   \n",
       "\n",
       "          City Postal Code  Annual Flow  ...  Fuel Oil 4 & 6 Qty ltr  \\\n",
       "0    Ingersoll      N5C3V6          0.0  ...                     0.0   \n",
       "1    Ingersoll      N5C3V6          0.0  ...                     0.0   \n",
       "2   Alexandria      K0C1A0          0.0  ...                     0.0   \n",
       "3   Alexandria      K0C1A0          0.0  ...                     0.0   \n",
       "4  Blind River      P0R1B0          0.0  ...                     0.0   \n",
       "\n",
       "   Propane Qty ltr  Coal Qty metric ton  Wood Qty metric ton  \\\n",
       "0              0.0                    0                  0.0   \n",
       "1              0.0                    0                  0.0   \n",
       "2              0.0                    0                  0.0   \n",
       "3              0.0                    0                  0.0   \n",
       "4              0.0                    0                  0.0   \n",
       "\n",
       "   District Heating Qty gj District Cooling Qty gj  GHG Emissions metric ton  \\\n",
       "0                      0.0                     0.0                     528.0   \n",
       "1                      0.0                     0.0                     432.0   \n",
       "2                      0.0                     0.0                     587.0   \n",
       "3                      0.0                     0.0                      45.0   \n",
       "4                      0.0                     0.0                      53.0   \n",
       "\n",
       "   year  Fuel Oil 4 Qty ltr  Fuel Oil 5 & 6 Qty ltr  \n",
       "0  2012                 NaN                     NaN  \n",
       "1  2012                 NaN                     NaN  \n",
       "2  2012                 NaN                     NaN  \n",
       "3  2012                 NaN                     NaN  \n",
       "4  2012                 NaN                     NaN  \n",
       "\n",
       "[5 rows x 23 columns]"
      ]
     },
     "execution_count": 3,
     "metadata": {},
     "output_type": "execute_result"
    }
   ],
   "source": [
    "df = pd.read_excel(\"Concat.xlsx\")\n",
    "df.head()"
   ]
  },
  {
   "cell_type": "code",
   "execution_count": 4,
   "id": "85d8d947-7fe1-44ca-a502-97d3e54d0d23",
   "metadata": {},
   "outputs": [
    {
     "data": {
      "text/plain": [
       "Unnamed: 0                       0\n",
       "Sector Name                      0\n",
       "Sub Sector                       5\n",
       "Organization                     0\n",
       "Operation                        0\n",
       "Operation Type                   0\n",
       "Address                        107\n",
       "City                             1\n",
       "Postal Code                    180\n",
       "Annual Flow                  25791\n",
       "Electricity Qty kWh           1651\n",
       "NaturalGas Qty m3             6205\n",
       "Fuel Oil 1 & 2 Qty ltr       15559\n",
       "Fuel Oil 4 & 6 Qty ltr       15889\n",
       "Propane Qty ltr              15129\n",
       "Coal Qty metric ton          15893\n",
       "Wood Qty metric ton          15892\n",
       "District Heating Qty gj      15858\n",
       "District Cooling Qty gj      15861\n",
       "GHG Emissions metric ton      1786\n",
       "year                             0\n",
       "Fuel Oil 4 Qty ltr          170310\n",
       "Fuel Oil 5 & 6 Qty ltr      170328\n",
       "dtype: int64"
      ]
     },
     "execution_count": 4,
     "metadata": {},
     "output_type": "execute_result"
    }
   ],
   "source": [
    "df.isnull().sum()"
   ]
  },
  {
   "cell_type": "code",
   "execution_count": 90,
   "id": "f3eec04b-4d8f-4382-8148-99cfe432ac48",
   "metadata": {},
   "outputs": [],
   "source": [
    "df.drop(columns=['Unnamed: 0'], inplace=True)"
   ]
  },
  {
   "cell_type": "markdown",
   "id": "d776c865-e17d-4104-826d-358c2aab32be",
   "metadata": {},
   "source": [
    "### Here we are treating the null value"
   ]
  },
  {
   "cell_type": "code",
   "execution_count": 5,
   "id": "aa3eb2d5-5548-4fde-8ace-e2081c0396cb",
   "metadata": {},
   "outputs": [],
   "source": [
    "df['Sub Sector'] = df.apply(lambda row: row['Organization'].split()[1] if pd.isnull(row['Sub Sector']) else row['Sub Sector'], axis=1)"
   ]
  },
  {
   "cell_type": "code",
   "execution_count": 6,
   "id": "c55f45f0-2bff-423a-af53-c6e4c52efa96",
   "metadata": {},
   "outputs": [],
   "source": [
    "df[(df['Address'] == '-') | (df['Address'] == '0') | (df['Address'] == '1')]\n",
    "df['Address'].replace({'-': np.nan, '0': np.nan, '1': np.nan}, inplace=True)\n",
    "df['Address'].ffill(inplace=True)"
   ]
  },
  {
   "cell_type": "code",
   "execution_count": 7,
   "id": "4c396078-eb3a-46f0-9ce9-7dbc4a68d438",
   "metadata": {},
   "outputs": [],
   "source": [
    "df[(df['City'] == '-') | (df['City'] == '0') | (df['City'] == '1')]\n",
    "df['City'].replace({'-': np.nan, '0': np.nan, '1': np.nan}, inplace=True)\n",
    "df['City'].ffill(inplace=True)"
   ]
  },
  {
   "cell_type": "code",
   "execution_count": 8,
   "id": "6859c41e-ca99-44e5-9d2d-2a005bf4d38c",
   "metadata": {},
   "outputs": [],
   "source": [
    "df[(df['Postal Code'] == '-') | (df['Postal Code'] == '0') | (df['Postal Code'] == '1')]\n",
    "df['City'].replace({'-': np.nan, '0': np.nan, '1': np.nan}, inplace=True)\n",
    "df['Postal Code'].ffill(inplace=True)"
   ]
  },
  {
   "cell_type": "code",
   "execution_count": 9,
   "id": "c2b98368-6564-4164-b17d-5ceecfd029de",
   "metadata": {},
   "outputs": [],
   "source": [
    "df.drop(columns=['Annual Flow'], inplace=True)"
   ]
  },
  {
   "cell_type": "code",
   "execution_count": 62,
   "id": "e27ae348-9875-42d5-94c7-0ea2fbc10e4f",
   "metadata": {},
   "outputs": [],
   "source": [
    "df['City'] = df['City'].apply(lambda x: x.title().strip())"
   ]
  },
  {
   "cell_type": "code",
   "execution_count": null,
   "id": "2f4f6119-9edf-49b6-a071-c8f272407d73",
   "metadata": {},
   "outputs": [],
   "source": []
  },
  {
   "cell_type": "code",
   "execution_count": 71,
   "id": "6eeb30d1-11c4-42a9-8625-fee41cd6f99d",
   "metadata": {},
   "outputs": [],
   "source": [
    "df.loc[165389, 'City'] = 'Oro Medonte'"
   ]
  },
  {
   "cell_type": "code",
   "execution_count": 72,
   "id": "db35c495-8a45-4fe8-a9d9-91d9feca3b96",
   "metadata": {},
   "outputs": [
    {
     "data": {
      "text/plain": [
       "1651"
      ]
     },
     "execution_count": 72,
     "metadata": {},
     "output_type": "execute_result"
    }
   ],
   "source": [
    "df['Electricity Qty kWh'].isnull().sum()"
   ]
  },
  {
   "cell_type": "code",
   "execution_count": 73,
   "id": "b0d58e3d-c01d-4097-ae53-71f936e88c0b",
   "metadata": {},
   "outputs": [],
   "source": [
    "city_means = df.groupby('City')['Electricity Qty kWh'].mean()\n",
    "\n",
    "for city in df['City'].unique():\n",
    "    city_mask = df['City'] == city\n",
    "    df.loc[city_mask, 'Electricity Qty kWh'] = df.loc[city_mask, 'Electricity Qty kWh'].fillna(city_means[city])"
   ]
  },
  {
   "cell_type": "code",
   "execution_count": 76,
   "id": "2a2ff2c8-50e6-4033-87df-16b4cf660237",
   "metadata": {},
   "outputs": [
    {
     "data": {
      "text/plain": [
       "0"
      ]
     },
     "execution_count": 76,
     "metadata": {},
     "output_type": "execute_result"
    }
   ],
   "source": [
    "df['Electricity Qty kWh'].isnull().sum()"
   ]
  },
  {
   "cell_type": "code",
   "execution_count": 75,
   "id": "eabb7bf0-bb8e-4604-a014-f1aa7a707a6a",
   "metadata": {},
   "outputs": [],
   "source": [
    "df['Electricity Qty kWh'].fillna(df['Electricity Qty kWh'].median(), inplace=True)"
   ]
  },
  {
   "cell_type": "code",
   "execution_count": 77,
   "id": "f4c429b5-f7e9-4b88-9bec-6ac19cab2f4b",
   "metadata": {},
   "outputs": [],
   "source": [
    "city_means = df.groupby('City')['NaturalGas Qty m3'].median()\n",
    "\n",
    "for city in df['City'].unique():\n",
    "    city_mask = df['City'] == city\n",
    "    df.loc[city_mask, 'NaturalGas Qty m3'] = df.loc[city_mask, 'NaturalGas Qty m3'].fillna(city_means[city])"
   ]
  },
  {
   "cell_type": "code",
   "execution_count": 83,
   "id": "bdd5aac0-aa71-409e-8e94-052b61d381c5",
   "metadata": {},
   "outputs": [
    {
     "data": {
      "text/plain": [
       "0"
      ]
     },
     "execution_count": 83,
     "metadata": {},
     "output_type": "execute_result"
    }
   ],
   "source": [
    "df['NaturalGas Qty m3'].isnull().sum()"
   ]
  },
  {
   "cell_type": "code",
   "execution_count": 82,
   "id": "887c5528-0292-4e89-9abc-0b0b5401ddbc",
   "metadata": {},
   "outputs": [
    {
     "data": {
      "text/plain": [
       "Series([], Name: City, dtype: object)"
      ]
     },
     "execution_count": 82,
     "metadata": {},
     "output_type": "execute_result"
    }
   ],
   "source": [
    "df['City'][df['NaturalGas Qty m3'].isnull()]"
   ]
  },
  {
   "cell_type": "code",
   "execution_count": 81,
   "id": "c214a87e-2e0b-445b-8aa4-c8c3d3dc3d46",
   "metadata": {},
   "outputs": [],
   "source": [
    "df['NaturalGas Qty m3'].fillna(df['NaturalGas Qty m3'].median(), inplace=True)"
   ]
  },
  {
   "cell_type": "code",
   "execution_count": 84,
   "id": "44f4ae7e-10c2-4881-a209-c6b3dbcb5d23",
   "metadata": {},
   "outputs": [],
   "source": [
    "df['Fuel Oil 4 Qty ltr'].fillna(0, inplace=True)\n",
    "df['Fuel Oil 5 & 6 Qty ltr'].fillna(0, inplace=True)"
   ]
  },
  {
   "cell_type": "code",
   "execution_count": 92,
   "id": "ffcd1332-a143-44bd-951b-56876fa08ec9",
   "metadata": {},
   "outputs": [
    {
     "data": {
      "text/plain": [
       "['Sector Name',\n",
       " 'Sub Sector',\n",
       " 'Organization',\n",
       " 'Operation',\n",
       " 'Operation Type',\n",
       " 'Address',\n",
       " 'City',\n",
       " 'Postal Code',\n",
       " 'Electricity Qty kWh',\n",
       " 'NaturalGas Qty m3',\n",
       " 'Fuel Oil 1 & 2 Qty ltr',\n",
       " 'Fuel Oil 4 & 6 Qty ltr',\n",
       " 'Propane Qty ltr',\n",
       " 'Coal Qty metric ton',\n",
       " 'Wood Qty metric ton',\n",
       " 'District Heating Qty gj',\n",
       " 'District Cooling Qty gj',\n",
       " 'GHG Emissions metric ton',\n",
       " 'year',\n",
       " 'Fuel Oil 4 Qty ltr',\n",
       " 'Fuel Oil 5 & 6 Qty ltr']"
      ]
     },
     "execution_count": 92,
     "metadata": {},
     "output_type": "execute_result"
    }
   ],
   "source": [
    "l = list(df.columns)\n",
    "l"
   ]
  },
  {
   "cell_type": "code",
   "execution_count": 93,
   "id": "259c09cb-5255-47bd-995e-aafe6962adb8",
   "metadata": {},
   "outputs": [
    {
     "data": {
      "text/plain": [
       "10"
      ]
     },
     "execution_count": 93,
     "metadata": {},
     "output_type": "execute_result"
    }
   ],
   "source": [
    "l.index('Fuel Oil 1 & 2 Qty ltr')"
   ]
  },
  {
   "cell_type": "code",
   "execution_count": 94,
   "id": "3f8e6c4e-c201-41d6-a7b8-02f7c784ad53",
   "metadata": {},
   "outputs": [
    {
     "data": {
      "text/plain": [
       "18"
      ]
     },
     "execution_count": 94,
     "metadata": {},
     "output_type": "execute_result"
    }
   ],
   "source": [
    "l.index('year')"
   ]
  },
  {
   "cell_type": "code",
   "execution_count": 95,
   "id": "d9890b7a-db4c-46f8-9d67-627c71871df7",
   "metadata": {},
   "outputs": [
    {
     "data": {
      "text/plain": [
       "['Fuel Oil 1 & 2 Qty ltr',\n",
       " 'Fuel Oil 4 & 6 Qty ltr',\n",
       " 'Propane Qty ltr',\n",
       " 'Coal Qty metric ton',\n",
       " 'Wood Qty metric ton',\n",
       " 'District Heating Qty gj',\n",
       " 'District Cooling Qty gj',\n",
       " 'GHG Emissions metric ton']"
      ]
     },
     "execution_count": 95,
     "metadata": {},
     "output_type": "execute_result"
    }
   ],
   "source": [
    "l[10:18]"
   ]
  },
  {
   "cell_type": "code",
   "execution_count": 98,
   "id": "89f44dc1-2699-4e38-81b0-be37b99696a6",
   "metadata": {},
   "outputs": [],
   "source": [
    "df['Coal Qty metric ton'] = df['Coal Qty metric ton'].apply(lambda x: x if x != 'Litre' else np.nan)"
   ]
  },
  {
   "cell_type": "code",
   "execution_count": 99,
   "id": "664cc153-5a89-4e12-98aa-dc0ebb0cfd88",
   "metadata": {},
   "outputs": [
    {
     "data": {
      "text/plain": [
       "Series([], Name: Coal Qty metric ton, dtype: float64)"
      ]
     },
     "execution_count": 99,
     "metadata": {},
     "output_type": "execute_result"
    }
   ],
   "source": [
    "df['Coal Qty metric ton'][df['Coal Qty metric ton']=='Litre']"
   ]
  },
  {
   "cell_type": "code",
   "execution_count": 100,
   "id": "1d8804b4-bd74-41e1-b7a7-e55e9b0b3446",
   "metadata": {},
   "outputs": [],
   "source": [
    "for col in l[10:18]:\n",
    "    city_means = df.groupby('City')[col].median()\n",
    "\n",
    "    for city in df['City'].unique():\n",
    "        city_mask = df['City'] == city\n",
    "        df.loc[city_mask, col] = df.loc[city_mask, col].fillna(city_means[city])\n",
    "        df[col].fillna(df[col].median(), inplace=True)"
   ]
  },
  {
   "cell_type": "code",
   "execution_count": 101,
   "id": "40499c76-66c1-4c4d-b205-c16925dc124e",
   "metadata": {},
   "outputs": [
    {
     "data": {
      "text/plain": [
       "Sector Name                 0\n",
       "Sub Sector                  0\n",
       "Organization                0\n",
       "Operation                   0\n",
       "Operation Type              0\n",
       "Address                     0\n",
       "City                        0\n",
       "Postal Code                 0\n",
       "Electricity Qty kWh         0\n",
       "NaturalGas Qty m3           0\n",
       "Fuel Oil 1 & 2 Qty ltr      0\n",
       "Fuel Oil 4 & 6 Qty ltr      0\n",
       "Propane Qty ltr             0\n",
       "Coal Qty metric ton         0\n",
       "Wood Qty metric ton         0\n",
       "District Heating Qty gj     0\n",
       "District Cooling Qty gj     0\n",
       "GHG Emissions metric ton    0\n",
       "year                        0\n",
       "Fuel Oil 4 Qty ltr          0\n",
       "Fuel Oil 5 & 6 Qty ltr      0\n",
       "dtype: int64"
      ]
     },
     "execution_count": 101,
     "metadata": {},
     "output_type": "execute_result"
    }
   ],
   "source": [
    "df.isnull().sum()"
   ]
  },
  {
   "cell_type": "code",
   "execution_count": 102,
   "id": "17138f7f-bb31-405d-8bf6-eff8ab80d1cd",
   "metadata": {},
   "outputs": [],
   "source": [
    "df.to_excel('Final_Concated.xlsx')"
   ]
  },
  {
   "cell_type": "code",
   "execution_count": null,
   "id": "4e29f46b-a75d-47dd-81bb-ed838a47f170",
   "metadata": {},
   "outputs": [],
   "source": []
  }
 ],
 "metadata": {
  "kernelspec": {
   "display_name": "Python 3 (ipykernel)",
   "language": "python",
   "name": "python3"
  },
  "language_info": {
   "codemirror_mode": {
    "name": "ipython",
    "version": 3
   },
   "file_extension": ".py",
   "mimetype": "text/x-python",
   "name": "python",
   "nbconvert_exporter": "python",
   "pygments_lexer": "ipython3",
   "version": "3.11.5"
  }
 },
 "nbformat": 4,
 "nbformat_minor": 5
}
